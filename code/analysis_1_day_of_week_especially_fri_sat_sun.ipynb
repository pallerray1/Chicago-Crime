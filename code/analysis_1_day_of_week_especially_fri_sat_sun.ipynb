{
 "cells": [
  {
   "cell_type": "code",
   "execution_count": 1,
   "metadata": {},
   "outputs": [],
   "source": [
    "import pandas as pd\n",
    "import numpy as np\n",
    "\n",
    "from datetime import datetime, date, time, timedelta\n",
    "import calendar as c         # c is the module\n",
    "c.setfirstweekday(c.SUNDAY)  # first day Sunday America not Monday Euro\n",
    "cc = c.Calendar()            # cc is the an instantiation of the class Calendar; class Calendar inside module c\n",
    "\n",
    "from dateutil.relativedelta import *\n",
    "from dateutil.rrule import *\n",
    "from dateutil.parser import *\n",
    "\n",
    "\n",
    "from matplotlib import pyplot as plt\n",
    "%matplotlib inline\n",
    "import seaborn as sns\n",
    "from pandas.plotting import register_matplotlib_converters\n",
    "register_matplotlib_converters()\n",
    "sns.set(style='darkgrid')\n",
    "\n",
    "import copy\n",
    "\n",
    "pd.set_option('display.max_rows', 500)\n",
    "pd.set_option('display.max_columns', 500)\n",
    "pd.set_option('display.width', 1000)"
   ]
  },
  {
   "cell_type": "markdown",
   "metadata": {},
   "source": [
    "#### Read in the prepped data"
   ]
  },
  {
   "cell_type": "code",
   "execution_count": 2,
   "metadata": {},
   "outputs": [],
   "source": [
    "df = pd.read_csv('../data/df.csv')"
   ]
  },
  {
   "cell_type": "code",
   "execution_count": 3,
   "metadata": {},
   "outputs": [],
   "source": [
    "df['date'] = df['date'].apply(lambda x: pd.to_datetime(x))"
   ]
  },
  {
   "cell_type": "code",
   "execution_count": 23,
   "metadata": {
    "scrolled": false
   },
   "outputs": [
    {
     "data": {
      "text/html": [
       "<div>\n",
       "<style scoped>\n",
       "    .dataframe tbody tr th:only-of-type {\n",
       "        vertical-align: middle;\n",
       "    }\n",
       "\n",
       "    .dataframe tbody tr th {\n",
       "        vertical-align: top;\n",
       "    }\n",
       "\n",
       "    .dataframe thead th {\n",
       "        text-align: right;\n",
       "    }\n",
       "</style>\n",
       "<table border=\"1\" class=\"dataframe\">\n",
       "  <thead>\n",
       "    <tr style=\"text-align: right;\">\n",
       "      <th></th>\n",
       "      <th>id</th>\n",
       "      <th>case_number</th>\n",
       "      <th>date</th>\n",
       "      <th>block</th>\n",
       "      <th>iucr</th>\n",
       "      <th>primary_type</th>\n",
       "      <th>description</th>\n",
       "      <th>location_description</th>\n",
       "      <th>arrest</th>\n",
       "      <th>domestic</th>\n",
       "      <th>beat</th>\n",
       "      <th>district</th>\n",
       "      <th>ward</th>\n",
       "      <th>community_area</th>\n",
       "      <th>fbi_code</th>\n",
       "      <th>year</th>\n",
       "      <th>updated_on</th>\n",
       "      <th>latitude</th>\n",
       "      <th>longitude</th>\n",
       "      <th>location</th>\n",
       "      <th>district_x</th>\n",
       "      <th>sector</th>\n",
       "      <th>beat_x</th>\n",
       "      <th>beat_num</th>\n",
       "      <th>district_name</th>\n",
       "      <th>weekday</th>\n",
       "      <th>fri_sat_sun</th>\n",
       "    </tr>\n",
       "  </thead>\n",
       "  <tbody>\n",
       "    <tr>\n",
       "      <th>0</th>\n",
       "      <td>8926266</td>\n",
       "      <td>HV598372</td>\n",
       "      <td>2012-11-15 00:01:00</td>\n",
       "      <td>013XX W CORNELIA AVE</td>\n",
       "      <td>0810</td>\n",
       "      <td>THEFT</td>\n",
       "      <td>OVER $500</td>\n",
       "      <td>APARTMENT</td>\n",
       "      <td>False</td>\n",
       "      <td>False</td>\n",
       "      <td>1924</td>\n",
       "      <td>19.0</td>\n",
       "      <td>44.0</td>\n",
       "      <td>6.0</td>\n",
       "      <td>06</td>\n",
       "      <td>2012</td>\n",
       "      <td>02/10/2018 03:50:01 PM</td>\n",
       "      <td>41.945267</td>\n",
       "      <td>-87.662672</td>\n",
       "      <td>(41.945267201, -87.662671562)</td>\n",
       "      <td>19.0</td>\n",
       "      <td>2.0</td>\n",
       "      <td>2.0</td>\n",
       "      <td>1924.0</td>\n",
       "      <td>Town Hall</td>\n",
       "      <td>Thursday</td>\n",
       "      <td>0</td>\n",
       "    </tr>\n",
       "    <tr>\n",
       "      <th>1</th>\n",
       "      <td>8888158</td>\n",
       "      <td>HV562478</td>\n",
       "      <td>2012-11-15 00:01:00</td>\n",
       "      <td>122XX S PRINCETON AVE</td>\n",
       "      <td>1320</td>\n",
       "      <td>CRIMINAL DAMAGE</td>\n",
       "      <td>TO VEHICLE</td>\n",
       "      <td>STREET</td>\n",
       "      <td>False</td>\n",
       "      <td>False</td>\n",
       "      <td>523</td>\n",
       "      <td>5.0</td>\n",
       "      <td>34.0</td>\n",
       "      <td>53.0</td>\n",
       "      <td>14</td>\n",
       "      <td>2012</td>\n",
       "      <td>02/10/2018 03:50:01 PM</td>\n",
       "      <td>41.671987</td>\n",
       "      <td>-87.629693</td>\n",
       "      <td>(41.67198685, -87.629693199)</td>\n",
       "      <td>5.0</td>\n",
       "      <td>2.0</td>\n",
       "      <td>2.0</td>\n",
       "      <td>523.0</td>\n",
       "      <td>Calumet</td>\n",
       "      <td>Thursday</td>\n",
       "      <td>0</td>\n",
       "    </tr>\n",
       "    <tr>\n",
       "      <th>2</th>\n",
       "      <td>8888176</td>\n",
       "      <td>HV562494</td>\n",
       "      <td>2012-11-15 00:01:00</td>\n",
       "      <td>012XX N PULASKI RD</td>\n",
       "      <td>0460</td>\n",
       "      <td>BATTERY</td>\n",
       "      <td>SIMPLE</td>\n",
       "      <td>SIDEWALK</td>\n",
       "      <td>False</td>\n",
       "      <td>False</td>\n",
       "      <td>2534</td>\n",
       "      <td>25.0</td>\n",
       "      <td>27.0</td>\n",
       "      <td>23.0</td>\n",
       "      <td>08B</td>\n",
       "      <td>2012</td>\n",
       "      <td>02/10/2018 03:50:01 PM</td>\n",
       "      <td>41.902899</td>\n",
       "      <td>-87.726309</td>\n",
       "      <td>(41.902899152, -87.72630861)</td>\n",
       "      <td>25.0</td>\n",
       "      <td>3.0</td>\n",
       "      <td>3.0</td>\n",
       "      <td>2534.0</td>\n",
       "      <td>Grand Central</td>\n",
       "      <td>Thursday</td>\n",
       "      <td>0</td>\n",
       "    </tr>\n",
       "  </tbody>\n",
       "</table>\n",
       "</div>"
      ],
      "text/plain": [
       "        id case_number                date                  block  iucr     primary_type description location_description  arrest  domestic  beat  district  ward  community_area fbi_code  year              updated_on   latitude  longitude                       location  district_x  sector  beat_x  beat_num  district_name   weekday  fri_sat_sun\n",
       "0  8926266    HV598372 2012-11-15 00:01:00   013XX W CORNELIA AVE  0810            THEFT   OVER $500            APARTMENT   False     False  1924      19.0  44.0             6.0       06  2012  02/10/2018 03:50:01 PM  41.945267 -87.662672  (41.945267201, -87.662671562)        19.0     2.0     2.0    1924.0      Town Hall  Thursday            0\n",
       "1  8888158    HV562478 2012-11-15 00:01:00  122XX S PRINCETON AVE  1320  CRIMINAL DAMAGE  TO VEHICLE               STREET   False     False   523       5.0  34.0            53.0       14  2012  02/10/2018 03:50:01 PM  41.671987 -87.629693   (41.67198685, -87.629693199)         5.0     2.0     2.0     523.0        Calumet  Thursday            0\n",
       "2  8888176    HV562494 2012-11-15 00:01:00     012XX N PULASKI RD  0460          BATTERY      SIMPLE             SIDEWALK   False     False  2534      25.0  27.0            23.0      08B  2012  02/10/2018 03:50:01 PM  41.902899 -87.726309   (41.902899152, -87.72630861)        25.0     3.0     3.0    2534.0  Grand Central  Thursday            0"
      ]
     },
     "execution_count": 23,
     "metadata": {},
     "output_type": "execute_result"
    }
   ],
   "source": [
    "df.head(3)"
   ]
  },
  {
   "cell_type": "markdown",
   "metadata": {},
   "source": [
    "#### Maybe day-of-week means something..."
   ]
  },
  {
   "cell_type": "code",
   "execution_count": 24,
   "metadata": {},
   "outputs": [],
   "source": [
    "df['weekday'] = df['date'].apply(lambda x: c.day_name[x.weekday()])"
   ]
  },
  {
   "cell_type": "code",
   "execution_count": 25,
   "metadata": {
    "scrolled": true
   },
   "outputs": [
    {
     "data": {
      "text/plain": [
       "Friday       0.150572\n",
       "Saturday     0.145129\n",
       "Monday       0.141755\n",
       "Thursday     0.141632\n",
       "Wednesday    0.141387\n",
       "Tuesday      0.140584\n",
       "Sunday       0.138941\n",
       "Name: weekday, dtype: float64"
      ]
     },
     "execution_count": 25,
     "metadata": {},
     "output_type": "execute_result"
    }
   ],
   "source": [
    "df['weekday'].value_counts(normalize= True)"
   ]
  },
  {
   "cell_type": "markdown",
   "metadata": {},
   "source": [
    "#### Friday and Saturday lead the pack, but not a breakaway at eyeballs glance.    Check if it's more pronounced when looking at specific crime types, or perhaps by area (aka police district)"
   ]
  },
  {
   "cell_type": "code",
   "execution_count": 26,
   "metadata": {},
   "outputs": [
    {
     "data": {
      "text/plain": [
       "primary_type                       weekday  \n",
       "ARSON                              Saturday       455\n",
       "                                   Sunday         444\n",
       "                                   Tuesday        433\n",
       "                                   Monday         418\n",
       "                                   Friday         414\n",
       "                                   Wednesday      401\n",
       "                                   Thursday       352\n",
       "ASSAULT                            Wednesday    19302\n",
       "                                   Thursday     19227\n",
       "                                   Tuesday      19047\n",
       "                                   Monday       18888\n",
       "                                   Friday       18748\n",
       "                                   Sunday       17963\n",
       "                                   Saturday     17700\n",
       "BATTERY                            Sunday       60515\n",
       "                                   Saturday     56516\n",
       "                                   Friday       48855\n",
       "                                   Monday       47881\n",
       "                                   Thursday     46311\n",
       "                                   Wednesday    46073\n",
       "                                   Tuesday      45935\n",
       "BURGLARY                           Friday       15355\n",
       "                                   Monday       14679\n",
       "                                   Tuesday      14393\n",
       "                                   Wednesday    14382\n",
       "                                   Thursday     14363\n",
       "                                   Saturday     12000\n",
       "                                   Sunday       10766\n",
       "CONCEALED CARRY LICENSE VIOLATION  Saturday        99\n",
       "                                   Friday          83\n",
       "                                   Sunday          75\n",
       "                                   Monday          71\n",
       "                                   Thursday        68\n",
       "                                   Wednesday       59\n",
       "                                   Tuesday         46\n",
       "CRIM SEXUAL ASSAULT                Sunday        1927\n",
       "                                   Saturday      1812\n",
       "                                   Friday        1484\n",
       "                                   Monday        1404\n",
       "                                   Thursday      1318\n",
       "                                   Wednesday     1285\n",
       "                                   Tuesday       1258\n",
       "CRIMINAL DAMAGE                    Saturday     32472\n",
       "                                   Sunday       31592\n",
       "                                   Friday       29617\n",
       "                                   Monday       28231\n",
       "                                   Thursday     27341\n",
       "                                   Wednesday    27087\n",
       "                                   Tuesday      26752\n",
       "CRIMINAL TRESPASS                  Wednesday     7291\n",
       "                                   Friday        7245\n",
       "                                   Monday        7181\n",
       "                                   Thursday      7176\n",
       "                                   Tuesday       7151\n",
       "                                   Saturday      6667\n",
       "                                   Sunday        6370\n",
       "DECEPTIVE PRACTICE                 Friday       19853\n",
       "                                   Monday       18815\n",
       "                                   Tuesday      18632\n",
       "                                   Wednesday    18269\n",
       "                                   Thursday     18254\n",
       "                                   Saturday     14945\n",
       "                                   Sunday       11717\n",
       "GAMBLING                           Friday         342\n",
       "                                   Tuesday        297\n",
       "                                   Thursday       294\n",
       "                                   Wednesday      291\n",
       "                                   Saturday       288\n",
       "                                   Monday         285\n",
       "                                   Sunday         264\n",
       "HOMICIDE                           Sunday         728\n",
       "                                   Saturday       637\n",
       "                                   Friday         549\n",
       "                                   Monday         533\n",
       "                                   Wednesday      518\n",
       "                                   Tuesday        484\n",
       "                                   Thursday       468\n",
       "HUMAN TRAFFICKING                  Tuesday         14\n",
       "                                   Wednesday       11\n",
       "                                   Saturday        10\n",
       "                                   Monday           8\n",
       "                                   Sunday           7\n",
       "                                   Friday           6\n",
       "                                   Thursday         5\n",
       "INTERFERENCE WITH PUBLIC OFFICER   Sunday        1371\n",
       "                                   Saturday      1333\n",
       "                                   Friday        1256\n",
       "                                   Monday        1253\n",
       "                                   Wednesday     1238\n",
       "                                   Tuesday       1217\n",
       "                                   Thursday      1173\n",
       "INTIMIDATION                       Wednesday      172\n",
       "                                   Tuesday        160\n",
       "                                   Monday         159\n",
       "                                   Thursday       155\n",
       "                                   Friday         140\n",
       "                                   Saturday       119\n",
       "                                   Sunday          92\n",
       "KIDNAPPING                         Friday         246\n",
       "                                   Monday         195\n",
       "                                   Tuesday        193\n",
       "                                   Saturday       190\n",
       "                                   Sunday         190\n",
       "                                   Wednesday      190\n",
       "                                   Thursday       183\n",
       "LIQUOR LAW VIOLATION               Saturday       491\n",
       "                                   Friday         401\n",
       "                                   Thursday       296\n",
       "                                   Wednesday      279\n",
       "                                   Sunday         254\n",
       "                                   Tuesday        250\n",
       "                                   Monday         134\n",
       "MOTOR VEHICLE THEFT                Friday       11674\n",
       "                                   Saturday     11023\n",
       "                                   Sunday       10752\n",
       "                                   Monday       10639\n",
       "                                   Thursday     10560\n",
       "                                   Wednesday    10354\n",
       "                                   Tuesday      10302\n",
       "NARCOTICS                          Friday       22933\n",
       "                                   Thursday     21213\n",
       "                                   Wednesday    21032\n",
       "                                   Tuesday      20491\n",
       "                                   Saturday     19254\n",
       "                                   Monday       19073\n",
       "                                   Sunday       17735\n",
       "NON - CRIMINAL                     Thursday         9\n",
       "                                   Wednesday        8\n",
       "                                   Tuesday          6\n",
       "                                   Friday           5\n",
       "                                   Saturday         5\n",
       "                                   Monday           3\n",
       "                                   Sunday           2\n",
       "NON-CRIMINAL                       Friday          42\n",
       "                                   Monday          24\n",
       "                                   Tuesday         23\n",
       "                                   Wednesday       22\n",
       "                                   Sunday          20\n",
       "                                   Saturday        16\n",
       "                                   Thursday        15\n",
       "NON-CRIMINAL (SUBJECT SPECIFIED)   Thursday         4\n",
       "                                   Monday           3\n",
       "                                   Wednesday        1\n",
       "OBSCENITY                          Wednesday       65\n",
       "                                   Tuesday         62\n",
       "                                   Sunday          58\n",
       "                                   Thursday        58\n",
       "                                   Friday          53\n",
       "                                   Monday          52\n",
       "                                   Saturday        38\n",
       "OFFENSE INVOLVING CHILDREN         Friday        2833\n",
       "                                   Sunday        2397\n",
       "                                   Thursday      2276\n",
       "                                   Tuesday       2216\n",
       "                                   Monday        2213\n",
       "                                   Wednesday     2208\n",
       "                                   Saturday      2193\n",
       "OTHER NARCOTIC VIOLATION           Thursday         9\n",
       "                                   Friday           8\n",
       "                                   Tuesday          8\n",
       "                                   Saturday         7\n",
       "                                   Sunday           6\n",
       "                                   Monday           4\n",
       "                                   Wednesday        2\n",
       "OTHER OFFENSE                      Tuesday      18033\n",
       "                                   Friday       18030\n",
       "                                   Monday       17888\n",
       "                                   Wednesday    17799\n",
       "                                   Thursday     17564\n",
       "                                   Saturday     15975\n",
       "                                   Sunday       15738\n",
       "PROSTITUTION                       Wednesday     1429\n",
       "                                   Thursday      1410\n",
       "                                   Tuesday       1350\n",
       "                                   Friday        1322\n",
       "                                   Saturday      1237\n",
       "                                   Sunday         632\n",
       "                                   Monday         270\n",
       "PUBLIC INDECENCY                   Saturday        15\n",
       "                                   Monday          12\n",
       "                                   Thursday        12\n",
       "                                   Tuesday         12\n",
       "                                   Friday          10\n",
       "                                   Sunday           9\n",
       "                                   Wednesday        7\n",
       "PUBLIC PEACE VIOLATION             Friday        2304\n",
       "                                   Wednesday     2134\n",
       "                                   Tuesday       2118\n",
       "                                   Saturday      2091\n",
       "                                   Thursday      2063\n",
       "                                   Monday        2052\n",
       "                                   Sunday        1891\n",
       "ROBBERY                            Saturday     10934\n",
       "                                   Friday       10740\n",
       "                                   Monday       10668\n",
       "                                   Sunday       10629\n",
       "                                   Wednesday    10351\n",
       "                                   Tuesday      10136\n",
       "                                   Thursday     10114\n",
       "SEX OFFENSE                        Thursday      1117\n",
       "                                   Wednesday     1084\n",
       "                                   Tuesday       1082\n",
       "                                   Monday        1060\n",
       "                                   Friday        1053\n",
       "                                   Saturday       987\n",
       "                                   Sunday         980\n",
       "STALKING                           Wednesday      210\n",
       "                                   Monday         189\n",
       "                                   Tuesday        188\n",
       "                                   Thursday       180\n",
       "                                   Friday         168\n",
       "                                   Sunday         167\n",
       "                                   Saturday       140\n",
       "THEFT                              Friday       68677\n",
       "                                   Thursday     64209\n",
       "                                   Saturday     64103\n",
       "                                   Wednesday    63883\n",
       "                                   Monday       63791\n",
       "                                   Tuesday      63442\n",
       "                                   Sunday       57036\n",
       "WEAPONS VIOLATION                  Saturday      4738\n",
       "                                   Friday        4488\n",
       "                                   Sunday        4288\n",
       "                                   Tuesday       4037\n",
       "                                   Thursday      3982\n",
       "                                   Monday        3938\n",
       "                                   Wednesday     3872\n",
       "Name: weekday, dtype: int64"
      ]
     },
     "execution_count": 26,
     "metadata": {},
     "output_type": "execute_result"
    }
   ],
   "source": [
    "df.groupby(['primary_type'])['weekday'].value_counts()"
   ]
  },
  {
   "cell_type": "markdown",
   "metadata": {},
   "source": [
    "#### Sifting through, the Friday-Saturday-Sunday stands out when it comes to VIOLENT crimes;  for Battery (it's not even close!),  Homicide (not even close!), Robbery, Weapons Violations, Criminal Damage, Criminal Sexual Assault, Concealed Carry (very low numbers on that type, however), Motor Vehicle Theft,  they lead by far.   \n",
    "#### If looking to predict VIOLENT crime,  it must be considered\n",
    "\n",
    "#### On the flip side,  Fri-Sat-Sun do basement dwelling on Assault (verbal but not physical attack), Burglary (harder to do when people are at home from work??), Deceptive Practices (Fri high but nose dives Sat-Sun;  forged documents and checks,  illicit credit and ATM cards, identity theft,  computer fraud, con games;  fraudsters in force on Friday but then take the rest of the weekend off seemingly)\n",
    "#### Theft does a bookends job --- high on Fri, average on Sat, tanks Sun"
   ]
  },
  {
   "cell_type": "code",
   "execution_count": 27,
   "metadata": {},
   "outputs": [
    {
     "data": {
      "text/plain": [
       "district_name   weekday  \n",
       "Albany Park     Friday       0.149789\n",
       "                Monday       0.145724\n",
       "                Thursday     0.144079\n",
       "                Wednesday    0.143710\n",
       "                Tuesday      0.142601\n",
       "                Saturday     0.139109\n",
       "                Sunday       0.134988\n",
       "Austin          Friday       0.149171\n",
       "                Saturday     0.144766\n",
       "                Wednesday    0.142458\n",
       "                Monday       0.141763\n",
       "                Sunday       0.141180\n",
       "                Thursday     0.140498\n",
       "                Tuesday      0.140163\n",
       "Calumet         Monday       0.146526\n",
       "                Friday       0.145773\n",
       "                Saturday     0.143890\n",
       "                Wednesday    0.142983\n",
       "                Tuesday      0.140900\n",
       "                Thursday     0.140359\n",
       "                Sunday       0.139570\n",
       "Central         Friday       0.159170\n",
       "                Thursday     0.149600\n",
       "                Tuesday      0.145701\n",
       "                Wednesday    0.145376\n",
       "                Monday       0.143217\n",
       "                Saturday     0.138992\n",
       "                Sunday       0.117944\n",
       "Chiocago Lawn   Friday       0.149829\n",
       "                Monday       0.143456\n",
       "                Wednesday    0.143293\n",
       "                Tuesday      0.142575\n",
       "                Saturday     0.141155\n",
       "                Thursday     0.140176\n",
       "                Sunday       0.139515\n",
       "Deering         Friday       0.149581\n",
       "                Sunday       0.147661\n",
       "                Saturday     0.147138\n",
       "                Monday       0.140754\n",
       "                Wednesday    0.138482\n",
       "                Thursday     0.138266\n",
       "                Tuesday      0.138118\n",
       "Englewood       Friday       0.147833\n",
       "                Tuesday      0.144939\n",
       "                Monday       0.143817\n",
       "                Thursday     0.143148\n",
       "                Wednesday    0.141225\n",
       "                Saturday     0.140631\n",
       "                Sunday       0.138406\n",
       "Grand Central   Friday       0.150678\n",
       "                Saturday     0.144745\n",
       "                Sunday       0.142843\n",
       "                Monday       0.142325\n",
       "                Thursday     0.141614\n",
       "                Tuesday      0.139281\n",
       "                Wednesday    0.138513\n",
       "Grand Crossing  Monday       0.147195\n",
       "                Friday       0.147001\n",
       "                Tuesday      0.144489\n",
       "                Wednesday    0.144006\n",
       "                Thursday     0.143093\n",
       "                Saturday     0.137478\n",
       "                Sunday       0.136737\n",
       "Gresham         Friday       0.147519\n",
       "                Wednesday    0.144705\n",
       "                Tuesday      0.143827\n",
       "                Monday       0.143170\n",
       "                Saturday     0.142437\n",
       "                Thursday     0.142403\n",
       "                Sunday       0.135940\n",
       "Harrison        Friday       0.152757\n",
       "                Wednesday    0.144837\n",
       "                Saturday     0.144413\n",
       "                Thursday     0.142730\n",
       "                Tuesday      0.142722\n",
       "                Monday       0.136501\n",
       "                Sunday       0.136040\n",
       "Jefferson Park  Friday       0.154414\n",
       "                Monday       0.143755\n",
       "                Thursday     0.143479\n",
       "                Tuesday      0.142513\n",
       "                Wednesday    0.141562\n",
       "                Saturday     0.138035\n",
       "                Sunday       0.136241\n",
       "Lincoln         Friday       0.151599\n",
       "                Monday       0.147053\n",
       "                Thursday     0.146176\n",
       "                Tuesday      0.142790\n",
       "                Wednesday    0.142508\n",
       "                Saturday     0.137524\n",
       "                Sunday       0.132351\n",
       "Morgan Park     Friday       0.149511\n",
       "                Thursday     0.145784\n",
       "                Tuesday      0.145346\n",
       "                Monday       0.145168\n",
       "                Wednesday    0.145071\n",
       "                Saturday     0.136367\n",
       "                Sunday       0.132753\n",
       "Near North      Saturday     0.178233\n",
       "                Friday       0.155642\n",
       "                Sunday       0.151350\n",
       "                Thursday     0.135034\n",
       "                Wednesday    0.129063\n",
       "                Monday       0.127259\n",
       "                Tuesday      0.123418\n",
       "Near West       Friday       0.156347\n",
       "                Saturday     0.146958\n",
       "                Thursday     0.141519\n",
       "                Wednesday    0.140353\n",
       "                Sunday       0.140256\n",
       "                Tuesday      0.138443\n",
       "                Monday       0.136123\n",
       "Ogden           Saturday     0.149322\n",
       "                Sunday       0.147994\n",
       "                Friday       0.146846\n",
       "                Monday       0.141637\n",
       "                Thursday     0.138689\n",
       "                Tuesday      0.138419\n",
       "                Wednesday    0.137092\n",
       "Rogers Park     Monday       0.148299\n",
       "                Friday       0.147456\n",
       "                Saturday     0.144305\n",
       "                Wednesday    0.142766\n",
       "                Tuesday      0.142216\n",
       "                Thursday     0.139431\n",
       "                Sunday       0.135528\n",
       "Shakespeare     Saturday     0.153220\n",
       "                Friday       0.152753\n",
       "                Sunday       0.144875\n",
       "                Monday       0.138484\n",
       "                Thursday     0.138426\n",
       "                Wednesday    0.138295\n",
       "                Tuesday      0.133947\n",
       "South Chicago   Friday       0.149985\n",
       "                Monday       0.144170\n",
       "                Wednesday    0.143398\n",
       "                Thursday     0.143352\n",
       "                Tuesday      0.143251\n",
       "                Saturday     0.139512\n",
       "                Sunday       0.136333\n",
       "Town Hall       Saturday     0.160507\n",
       "                Sunday       0.151179\n",
       "                Friday       0.150311\n",
       "                Monday       0.136804\n",
       "                Thursday     0.136260\n",
       "                Wednesday    0.133760\n",
       "                Tuesday      0.131179\n",
       "Wentworth       Friday       0.148103\n",
       "                Wednesday    0.147218\n",
       "                Tuesday      0.146015\n",
       "                Monday       0.145782\n",
       "                Thursday     0.144627\n",
       "                Saturday     0.136706\n",
       "                Sunday       0.131549\n",
       "Name: weekday, dtype: float64"
      ]
     },
     "execution_count": 27,
     "metadata": {},
     "output_type": "execute_result"
    }
   ],
   "source": [
    "df.groupby(['district_name'])['weekday'].value_counts(normalize= True)"
   ]
  },
  {
   "cell_type": "markdown",
   "metadata": {},
   "source": [
    "#### What seems most striking isn't that Friday is a big deal in most districts,  but the SPREAD between highest to lowest days within a district.   Near North is the king of swing from 0.1782 Fri to 0.1234 Tuesday.   Central (aka  Loop) also has a bigger spread.  "
   ]
  },
  {
   "cell_type": "markdown",
   "metadata": {},
   "source": [
    "### Friday-Saturday-Sunday has promise as a  good variable to track for so many possible end users,  so add it to the dataframe\n",
    "\n",
    "##### End users could include CPD shift schedulers, general citizens, businesses including hospitality, tourists"
   ]
  },
  {
   "cell_type": "code",
   "execution_count": 28,
   "metadata": {},
   "outputs": [],
   "source": [
    "def fri_sat_sun(d):\n",
    "    return int((d == 'Friday') | (d == 'Saturday') | (d == 'Sunday'))\n",
    "\n",
    "df['fri_sat_sun'] = df['weekday'].apply(fri_sat_sun)"
   ]
  },
  {
   "cell_type": "markdown",
   "metadata": {},
   "source": [
    "### Plot a visual that shows the Friday-Saturday-Sunday crimes that are above the null case "
   ]
  },
  {
   "cell_type": "code",
   "execution_count": 29,
   "metadata": {},
   "outputs": [],
   "source": [
    "df_fss = df.groupby(['primary_type'])['fri_sat_sun'].value_counts(normalize= True).to_frame()"
   ]
  },
  {
   "cell_type": "markdown",
   "metadata": {},
   "source": [
    "##### 8 cases of  'NON-CRIMINAL (SUBJECT SPECIFIED)' occurred out of over 1.9 million cases in 7 years,  and all 8 occurred on Mondays, Wednesdays, or Thursdays;   since there is nothing to plot for them, they will be deleted for this plot"
   ]
  },
  {
   "cell_type": "code",
   "execution_count": 30,
   "metadata": {},
   "outputs": [],
   "source": [
    "# keep safe the true dataset;  to delete for this plot use a deep copied throwaway temp\n",
    "temp   = copy.deepcopy(df)\n",
    "temp   = temp[temp['primary_type'] != 'NON-CRIMINAL (SUBJECT SPECIFIED)']\n",
    "df_fss = temp.groupby(['primary_type'])['fri_sat_sun'].value_counts(normalize= True).to_frame()"
   ]
  },
  {
   "cell_type": "code",
   "execution_count": 31,
   "metadata": {},
   "outputs": [],
   "source": [
    "constructor_list = []\n",
    "for item in df_fss.iloc[df_fss.index.get_level_values('fri_sat_sun') == 1].values.tolist():\n",
    "    constructor_list.append(item[0])"
   ]
  },
  {
   "cell_type": "code",
   "execution_count": 32,
   "metadata": {
    "scrolled": true
   },
   "outputs": [],
   "source": [
    "df_for_seaborn = pd.DataFrame({'primary_type': sorted(list(set(df_fss.index.get_level_values('primary_type')))),\n",
    "                          'fri_sat_sun_pct': constructor_list})\n",
    "df_for_seaborn = df_for_seaborn.sort_values(by= 'fri_sat_sun_pct')"
   ]
  },
  {
   "cell_type": "code",
   "execution_count": 33,
   "metadata": {},
   "outputs": [
    {
     "data": {
      "image/png": "[encoded data removed]",
      "text/plain": [
       "<Figure size 1080x576 with 1 Axes>"
      ]
     },
     "metadata": {
      "needs_background": "light"
     },
     "output_type": "display_data"
    }
   ],
   "source": [
    "fig = plt.figure(figsize= (15, 8))\n",
    "ax = fig.add_subplot(1,1,1)\n",
    "sns.barplot(y= 'primary_type', x= 'fri_sat_sun_pct', data= df_for_seaborn)\n",
    "plt.axvline(0.4286, color= 'red')\n",
    "ax.set_title('Friday-Saturday-Sunday Percents By Primary Type: All Chicago', fontsize= 20)\n",
    "fig.savefig('../assets/fss_pct_all_chicago.png')"
   ]
  },
  {
   "cell_type": "markdown",
   "metadata": {},
   "source": [
    "### Plot a visual for Near North district (which has the largest  swing with M-T-W-Th)"
   ]
  },
  {
   "cell_type": "code",
   "execution_count": 34,
   "metadata": {},
   "outputs": [],
   "source": [
    "df_near_north = df[df['district_name'] == 'Near North']"
   ]
  },
  {
   "cell_type": "markdown",
   "metadata": {},
   "source": [
    "##### 1 case of  'HUMAN TRAFFICKING' occurred in Near North district over 7 years and it happened on a Thursday;  nothing to plot so it'll be dropped for this plot;  'NON-CRIMINAL' also like above"
   ]
  },
  {
   "cell_type": "code",
   "execution_count": 35,
   "metadata": {},
   "outputs": [],
   "source": [
    "# keep true dataset safe;  use a throwaway temp for this plot\n",
    "temp   = df[df['district_name'] == 'Near North']\n",
    "temp   = temp[temp['primary_type'] != 'HUMAN TRAFFICKING']\n",
    "temp   = temp[temp['primary_type'] != 'NON-CRIMINAL']\n",
    "temp   = temp[temp['primary_type'] != 'NON - CRIMINAL']\n",
    "df_fss = temp.groupby(['primary_type'])['fri_sat_sun'].value_counts(normalize= True).to_frame()"
   ]
  },
  {
   "cell_type": "code",
   "execution_count": 36,
   "metadata": {
    "scrolled": true
   },
   "outputs": [],
   "source": [
    "constructor_list = []\n",
    "for item in df_fss.iloc[df_fss.index.get_level_values('fri_sat_sun') == 1].values.tolist():\n",
    "    constructor_list.append(item[0])\n",
    "    \n",
    "df_for_seaborn = pd.DataFrame({'primary_type': sorted(list(set(df_fss.index.get_level_values('primary_type')))),\n",
    "                          'fri_sat_sun_pct': constructor_list})\n",
    "df_for_seaborn = df_for_seaborn.sort_values(by= 'fri_sat_sun_pct')"
   ]
  },
  {
   "cell_type": "code",
   "execution_count": 37,
   "metadata": {},
   "outputs": [
    {
     "data": {
      "image/png": "[encoded data removed]",
      "text/plain": [
       "<Figure size 1080x576 with 1 Axes>"
      ]
     },
     "metadata": {
      "needs_background": "light"
     },
     "output_type": "display_data"
    }
   ],
   "source": [
    "fig = plt.figure(figsize= (15, 8))\n",
    "ax = fig.add_subplot(1,1,1)\n",
    "sns.barplot(y= 'primary_type', x= 'fri_sat_sun_pct', data= df_for_seaborn)\n",
    "plt.axvline(0.4286, color= 'red')\n",
    "ax.set_title('Friday-Saturday-Sunday Percents By Primary Type: Near North (District 18)', fontsize= 20)\n",
    "plt.savefig('../assets/fss_pct_near_north.jpg')"
   ]
  },
  {
   "cell_type": "markdown",
   "metadata": {},
   "source": [
    "## pick up workflow in the next notebook"
   ]
  },
  {
   "cell_type": "code",
   "execution_count": 38,
   "metadata": {},
   "outputs": [],
   "source": [
    "df.to_csv('../data/df_1.csv', index= False)"
   ]
  }
 ],
 "metadata": {
  "kernelspec": {
   "display_name": "Python 3",
   "language": "python",
   "name": "python3"
  },
  "language_info": {
   "codemirror_mode": {
    "name": "ipython",
    "version": 3
   },
   "file_extension": ".py",
   "mimetype": "text/x-python",
   "name": "python",
   "nbconvert_exporter": "python",
   "pygments_lexer": "ipython3",
   "version": "3.7.3"
  }
 },
 "nbformat": 4,
 "nbformat_minor": 2
}
