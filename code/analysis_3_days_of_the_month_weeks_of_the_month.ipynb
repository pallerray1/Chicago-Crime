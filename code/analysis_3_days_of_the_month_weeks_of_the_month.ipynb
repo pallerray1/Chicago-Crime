{
 "cells": [
  {
   "cell_type": "code",
   "execution_count": 1,
   "metadata": {},
   "outputs": [],
   "source": [
    "import pandas as pd\n",
    "import numpy as np\n",
    "\n",
    "from datetime import datetime, date, time, timedelta\n",
    "import calendar as c         # c is the module\n",
    "c.setfirstweekday(c.SUNDAY)  # first day Sunday America not Monday Euro\n",
    "cc = c.Calendar()            # cc is the an instantiation of the class Calendar; class Calendar inside module c\n",
    "\n",
    "from dateutil.relativedelta import *\n",
    "from dateutil.rrule import *\n",
    "from dateutil.parser import *\n",
    "from dateutil import rrule\n",
    "\n",
    "from matplotlib import pyplot as plt\n",
    "%matplotlib inline\n",
    "import seaborn as sns\n",
    "from pandas.plotting import register_matplotlib_converters\n",
    "register_matplotlib_converters()\n",
    "sns.set(style='darkgrid')\n",
    "\n",
    "import copy\n",
    "\n",
    "pd.set_option('display.max_rows', 500)\n",
    "pd.set_option('display.max_columns', 500)\n",
    "pd.set_option('display.width', 1000)"
   ]
  },
  {
   "cell_type": "markdown",
   "metadata": {},
   "source": [
    "#### Read in the data"
   ]
  },
  {
   "cell_type": "code",
   "execution_count": 2,
   "metadata": {},
   "outputs": [],
   "source": [
    "df = pd.read_csv('../data/df_2.csv')"
   ]
  },
  {
   "cell_type": "code",
   "execution_count": 3,
   "metadata": {},
   "outputs": [],
   "source": [
    "df['date'] = pd.to_datetime(df['date'])    "
   ]
  },
  {
   "cell_type": "markdown",
   "metadata": {},
   "source": [
    "#### Add a 'summation bit' to make collective summing easy."
   ]
  },
  {
   "cell_type": "code",
   "execution_count": 4,
   "metadata": {},
   "outputs": [],
   "source": [
    "df['summation_bit'] = 1"
   ]
  },
  {
   "cell_type": "markdown",
   "metadata": {},
   "source": [
    "### Check if first day of the month yields anything\n",
    "\n",
    "##### Heard a WalMart exec tell of the first of the month super-surge (  after a slow drip drop slide beginning around the 3rd week ).  Supposedly attributed to people getting fresh paychecks, private pension checks, and gov't program checks -- social security the biggest, unemployment ins., welfare assistance ---  after money getting tight as the previous month progressed.   \n",
    "\n",
    "##### Perhaps people get desperate for cash as the month goes on and get tapped out,  and get a big relief when replenished.\n",
    "\n",
    "##### Perhaps he meant the first week as opposed to first of month.   Because social security does not arrive exactly on the first,  and other disbursements may not be exactly the 1st either.  People may also wait a day or two for whatever reasons too."
   ]
  },
  {
   "cell_type": "markdown",
   "metadata": {},
   "source": [
    "### Check some scenerios"
   ]
  },
  {
   "cell_type": "code",
   "execution_count": 5,
   "metadata": {},
   "outputs": [],
   "source": [
    "def first_of_month(m):\n",
    "    return int(m.day == 1)"
   ]
  },
  {
   "cell_type": "code",
   "execution_count": 6,
   "metadata": {},
   "outputs": [],
   "source": [
    "df['first_of_month'] = df['date'].apply(first_of_month)"
   ]
  },
  {
   "cell_type": "code",
   "execution_count": 7,
   "metadata": {
    "scrolled": true
   },
   "outputs": [
    {
     "data": {
      "text/plain": [
       "0    0.960056\n",
       "1    0.039944\n",
       "Name: first_of_month, dtype: float64"
      ]
     },
     "execution_count": 7,
     "metadata": {},
     "output_type": "execute_result"
    }
   ],
   "source": [
    "df['first_of_month'].value_counts(normalize= True)"
   ]
  },
  {
   "cell_type": "markdown",
   "metadata": {},
   "source": [
    "##### Calculate a  measure of influence the 1st has over what otherwise could have been expected"
   ]
  },
  {
   "cell_type": "code",
   "execution_count": 8,
   "metadata": {},
   "outputs": [],
   "source": [
    "y_for_plotting = df['first_of_month'].value_counts(normalize= True)[1]"
   ]
  },
  {
   "cell_type": "code",
   "execution_count": 9,
   "metadata": {},
   "outputs": [
    {
     "data": {
      "text/plain": [
       "1.2149490500418034"
      ]
     },
     "execution_count": 9,
     "metadata": {},
     "output_type": "execute_result"
    }
   ],
   "source": [
    "y_for_plotting / (12.0/365)"
   ]
  },
  {
   "cell_type": "code",
   "execution_count": 10,
   "metadata": {
    "scrolled": true
   },
   "outputs": [
    {
     "data": {
      "image/png": "[encoded data removed]",
      "text/plain": [
       "<Figure size 144x216 with 1 Axes>"
      ]
     },
     "metadata": {
      "needs_background": "light"
     },
     "output_type": "display_data"
    }
   ],
   "source": [
    "fig = plt.figure(figsize= (2, 3))\n",
    "ax1 = fig.add_subplot(1,1,1)\n",
    "plt.bar(np.array(['null', 'f-o-m']), np.array([12.0/365, y_for_plotting]))\n",
    "plt.title('1st of Month')\n",
    "plt.savefig('../assets/uno_of_month.png')"
   ]
  },
  {
   "cell_type": "markdown",
   "metadata": {},
   "source": [
    "#### The 1st day of month crime difference is 21% higher than null case;  maybe it's something,  so check more \n",
    "\n",
    "\n",
    "#### Try capturing weeks leading up to the first of month,  and the first and second weeks afterward"
   ]
  },
  {
   "cell_type": "code",
   "execution_count": 11,
   "metadata": {},
   "outputs": [
    {
     "data": {
      "text/plain": [
       "'\\nFor each crime event (aka, df row)....\\n    1) find out what month the event belongs\\n    2) get the 1st of that month\\n    3) calculate forward from the 1st exactly one week\\n    4) see if that event falls within that timeframe\\n    5) if it does, tag/flag that event as having fallen in the first week of the month\\n    6) rinse and repeat the 1.9 million+ rows\\n'"
      ]
     },
     "execution_count": 11,
     "metadata": {},
     "output_type": "execute_result"
    }
   ],
   "source": [
    "'''\n",
    "For each crime event (aka, df row)....\n",
    "    1) find out what month the event belongs\n",
    "    2) get the 1st of that month\n",
    "    3) calculate forward from the 1st exactly one week\n",
    "    4) see if that event falls within that timeframe\n",
    "    5) if it does, tag/flag that event as having fallen in the first week of the month\n",
    "    6) rinse and repeat the 1.9 million+ rows\n",
    "'''"
   ]
  },
  {
   "cell_type": "code",
   "execution_count": 12,
   "metadata": {},
   "outputs": [],
   "source": [
    "def calc_first_from_first(row):\n",
    "    event_date             = row['date']\n",
    "    start_of_current_month = pd.to_datetime(date(event_date.year, event_date.month, 1))\n",
    "    window_top             = None\n",
    "    window_bottom          = start_of_current_month + relativedelta(weeks=+1)\n",
    "    return int(event_date < window_bottom)\n",
    "\n",
    "df['first_week_from_first'] = df.apply(calc_first_from_first, axis= 1)"
   ]
  },
  {
   "cell_type": "code",
   "execution_count": 13,
   "metadata": {},
   "outputs": [
    {
     "data": {
      "text/plain": [
       "'\\nFor each crime event (aka, df row)....\\n    1) find out what month the event belongs\\n    2) get the 1st of that month\\n    3) calculate forward from the 1st exactly one week\\n    4) calculate forward from the 1st exactly two weeks\\n    5) see if that event falls in the window between those 2 timeframes\\n    6) if it does, tag/flag that event as having fallen in the second week of the month\\n    7) rinse and repeat the 1.9 million+ rows\\n'"
      ]
     },
     "execution_count": 13,
     "metadata": {},
     "output_type": "execute_result"
    }
   ],
   "source": [
    "'''\n",
    "For each crime event (aka, df row)....\n",
    "    1) find out what month the event belongs\n",
    "    2) get the 1st of that month\n",
    "    3) calculate forward from the 1st exactly one week\n",
    "    4) calculate forward from the 1st exactly two weeks\n",
    "    5) see if that event falls in the window between those 2 timeframes\n",
    "    6) if it does, tag/flag that event as having fallen in the second week of the month\n",
    "    7) rinse and repeat the 1.9 million+ rows\n",
    "'''"
   ]
  },
  {
   "cell_type": "code",
   "execution_count": 14,
   "metadata": {},
   "outputs": [],
   "source": [
    "def calc_second_from_first(row):\n",
    "    event_date             = row['date']\n",
    "    start_of_current_month = pd.to_datetime(date(event_date.year, event_date.month, 1))\n",
    "    window_top             = start_of_current_month + relativedelta(weeks=+1)\n",
    "    window_bottom          = start_of_current_month + relativedelta(weeks=+2)\n",
    "    return int((event_date >= window_top) & (event_date < window_bottom))\n",
    "\n",
    "df['second_week_from_first'] = df.apply(calc_second_from_first, axis= 1)"
   ]
  },
  {
   "cell_type": "code",
   "execution_count": 15,
   "metadata": {},
   "outputs": [
    {
     "data": {
      "text/plain": [
       "'\\nFor each crime event (aka, df row)....\\n    1) find out what month the event belongs\\n    2) get the 1st of that month\\n    3) calculate forward exactly one month, then calculate backward exactly one week\\n    4) see if that event falls in the window of the new 1st of the next month and the week prior to the new 1st\\n    5) if it does, tag/flag that event as having fallen in the last week of the month\\n    6) rinse and repeat the 1.9 million+ rows\\n'"
      ]
     },
     "execution_count": 15,
     "metadata": {},
     "output_type": "execute_result"
    }
   ],
   "source": [
    "'''\n",
    "For each crime event (aka, df row)....\n",
    "    1) find out what month the event belongs\n",
    "    2) get the 1st of that month\n",
    "    3) calculate forward exactly one month, then calculate backward exactly one week\n",
    "    4) see if that event falls in the window of the new 1st of the next month and the week prior to the new 1st\n",
    "    5) if it does, tag/flag that event as having fallen in the last week of the month\n",
    "    6) rinse and repeat the 1.9 million+ rows\n",
    "'''"
   ]
  },
  {
   "cell_type": "code",
   "execution_count": 16,
   "metadata": {},
   "outputs": [],
   "source": [
    "def calc_last_from_end(row):\n",
    "    event_date             = row['date']\n",
    "    start_of_current_month = pd.to_datetime(date(event_date.year, event_date.month, 1))\n",
    "    window_top             = start_of_current_month + relativedelta(months=+1) - relativedelta(weeks=+1)\n",
    "    window_bottom          = None\n",
    "    return int(event_date >= window_top)\n",
    "\n",
    "df['last_week_from_end'] = df.apply(calc_last_from_end, axis= 1)"
   ]
  },
  {
   "cell_type": "code",
   "execution_count": 17,
   "metadata": {},
   "outputs": [],
   "source": [
    "# get the knack?   add a month, subtract from it a week, subtract from it two weeks,  check if in the 'window'"
   ]
  },
  {
   "cell_type": "code",
   "execution_count": 18,
   "metadata": {},
   "outputs": [],
   "source": [
    "def calc_second_to_last_from_end(row):\n",
    "    event_date             = row['date']\n",
    "    start_of_current_month = pd.to_datetime(date(event_date.year, event_date.month, 1))\n",
    "    window_bottom          = start_of_current_month + relativedelta(months=+1) - relativedelta(weeks=+1)\n",
    "    window_top             = start_of_current_month + relativedelta(months=+1)  - relativedelta(weeks=+2)\n",
    "    return int((event_date >= window_top) & (event_date < window_bottom))\n",
    "\n",
    "\n",
    "df['second_to last_week_from_end'] = df.apply(calc_second_to_last_from_end, axis= 1)"
   ]
  },
  {
   "cell_type": "markdown",
   "metadata": {},
   "source": [
    "#### To get an apples to apples comparison,  the following is done:"
   ]
  },
  {
   "cell_type": "markdown",
   "metadata": {},
   "source": [
    "##### The number of weeks in a real year is 52,  while getting week 1 and 2 after the front of a given month and then week 1 and 2 from the back of the first day of next upcoming month implies 4 weeks per month times 12 months gives 48 weeks.   To get comparables,  get the null case of overall crimes PER WEEK.    Then calculate how many months there were calculated in the dataset,  note that each month contains 1 of each of the 4 different week frames."
   ]
  },
  {
   "cell_type": "code",
   "execution_count": 19,
   "metadata": {},
   "outputs": [],
   "source": [
    "df['month'] = pd.to_datetime(df['date']) "
   ]
  },
  {
   "cell_type": "code",
   "execution_count": 20,
   "metadata": {},
   "outputs": [],
   "source": [
    "df['year_month'] = df['date'].dt.to_period('M')"
   ]
  },
  {
   "cell_type": "code",
   "execution_count": 21,
   "metadata": {
    "scrolled": true
   },
   "outputs": [
    {
     "data": {
      "text/plain": [
       "<PeriodArray>\n",
       "['2012-11', '2012-12', '2013-01', '2013-02', '2013-03', '2013-04', '2013-05', '2013-06', '2013-07', '2013-08', '2013-09', '2013-10', '2013-11', '2013-12', '2014-01', '2014-02', '2014-03', '2014-04', '2014-05', '2014-06', '2014-07', '2014-08', '2014-09', '2014-10', '2014-11', '2014-12', '2015-01', '2015-02', '2015-03', '2015-04', '2015-05', '2015-06', '2015-07', '2015-08', '2015-09', '2015-10', '2015-11', '2015-12', '2016-01', '2016-02', '2016-03', '2016-04', '2016-05', '2016-06', '2016-07', '2016-08', '2016-09', '2016-10', '2016-11', '2016-12', '2017-01', '2017-02', '2017-03', '2017-04', '2017-05', '2017-06', '2017-07', '2017-08', '2017-09', '2017-10', '2017-11', '2017-12', '2018-01', '2018-02', '2018-03', '2018-04', '2018-05', '2018-06', '2018-07', '2018-08', '2018-09', '2018-10', '2018-11', '2018-12', '2019-01', '2019-02', '2019-03', '2019-04', '2019-05', '2019-06', '2019-07', '2019-08', '2019-09', '2019-10', '2019-11']\n",
       "Length: 85, dtype: period[M]"
      ]
     },
     "execution_count": 21,
     "metadata": {},
     "output_type": "execute_result"
    }
   ],
   "source": [
    "df['year_month'].unique()"
   ]
  },
  {
   "cell_type": "markdown",
   "metadata": {},
   "source": [
    "##### The dataset started and ended on the middle Novembers;  the back end weeks got a bonus from the head of the dataset while the front end weeks got a bonus from the tail of the dataset, so essentially cancelling out all considered.   Note that the front and back end Novembers both got counted in the PeriodArray above, when only one should given the middle of the month start and ends.   So, PeriodArray is in overcount by 1 month, so given length of 85 is a true length of 84 months."
   ]
  },
  {
   "cell_type": "code",
   "execution_count": 22,
   "metadata": {},
   "outputs": [
    {
     "data": {
      "text/plain": [
       "5365.678571428572"
      ]
     },
     "execution_count": 22,
     "metadata": {},
     "output_type": "execute_result"
    }
   ],
   "source": [
    "first_week_from_first_average = df['first_week_from_first'].sum() / 84.0\n",
    "first_week_from_first_average"
   ]
  },
  {
   "cell_type": "code",
   "execution_count": 23,
   "metadata": {},
   "outputs": [
    {
     "data": {
      "text/plain": [
       "5148.75"
      ]
     },
     "execution_count": 23,
     "metadata": {},
     "output_type": "execute_result"
    }
   ],
   "source": [
    "second_week_from_first_average = df['second_week_from_first'].sum() / 84.0\n",
    "second_week_from_first_average"
   ]
  },
  {
   "cell_type": "code",
   "execution_count": 24,
   "metadata": {},
   "outputs": [
    {
     "data": {
      "text/plain": [
       "5263.071428571428"
      ]
     },
     "execution_count": 24,
     "metadata": {},
     "output_type": "execute_result"
    }
   ],
   "source": [
    "second_week_from_end_average = df['second_to last_week_from_end'].sum() / 84.0\n",
    "second_week_from_end_average"
   ]
  },
  {
   "cell_type": "code",
   "execution_count": 25,
   "metadata": {},
   "outputs": [
    {
     "data": {
      "text/plain": [
       "5176.023809523809"
      ]
     },
     "execution_count": 25,
     "metadata": {},
     "output_type": "execute_result"
    }
   ],
   "source": [
    "last_week_from_end_average = df['last_week_from_end'].sum() / 84.0\n",
    "last_week_from_end_average"
   ]
  },
  {
   "cell_type": "markdown",
   "metadata": {},
   "source": [
    "##### Get the number of weeks involved in dataset and calculate average crime per week"
   ]
  },
  {
   "cell_type": "code",
   "execution_count": 26,
   "metadata": {},
   "outputs": [
    {
     "data": {
      "text/plain": [
       "366"
      ]
     },
     "execution_count": 26,
     "metadata": {},
     "output_type": "execute_result"
    }
   ],
   "source": [
    "start_date = parse(str(pd.to_datetime(df.head(1)['date'].values[0])))\n",
    "end_date   = parse(str(pd.to_datetime(df.tail(1)['date'].values[0])))\n",
    "\n",
    "def weeks_between(start_date, end_date):\n",
    "    weeks = rrule.rrule(rrule.WEEKLY, dtstart= start_date, until= end_date)\n",
    "    return weeks.count()\n",
    "dataset_weeks = weeks_between(start_date, end_date)\n",
    "dataset_weeks"
   ]
  },
  {
   "cell_type": "code",
   "execution_count": 27,
   "metadata": {},
   "outputs": [
    {
     "data": {
      "text/plain": [
       "1918909"
      ]
     },
     "execution_count": 27,
     "metadata": {},
     "output_type": "execute_result"
    }
   ],
   "source": [
    "df['summation_bit'].sum()"
   ]
  },
  {
   "cell_type": "code",
   "execution_count": 28,
   "metadata": {},
   "outputs": [
    {
     "data": {
      "text/plain": [
       "5242.920765027322"
      ]
     },
     "execution_count": 28,
     "metadata": {},
     "output_type": "execute_result"
    }
   ],
   "source": [
    "overall_weekly_crime = df['summation_bit'].sum() / dataset_weeks\n",
    "overall_weekly_crime"
   ]
  },
  {
   "cell_type": "code",
   "execution_count": 29,
   "metadata": {},
   "outputs": [],
   "source": [
    "w_1     = (first_week_from_first_average / overall_weekly_crime) - 1\n",
    "w_2     = (second_week_from_first_average / overall_weekly_crime) -1\n",
    "w_2_end = (second_week_from_end_average / overall_weekly_crime) -1\n",
    "w_1_end = (last_week_from_end_average / overall_weekly_crime) -1"
   ]
  },
  {
   "cell_type": "code",
   "execution_count": 30,
   "metadata": {},
   "outputs": [
    {
     "data": {
      "image/png": "[encoded data removed]",
      "text/plain": [
       "<Figure size 432x576 with 1 Axes>"
      ]
     },
     "metadata": {
      "needs_background": "light"
     },
     "output_type": "display_data"
    },
    {
     "data": {
      "text/plain": [
       "<Figure size 432x288 with 0 Axes>"
      ]
     },
     "metadata": {},
     "output_type": "display_data"
    }
   ],
   "source": [
    "x_values = ['+1', '+2', '-2', '-1' ]\n",
    "y_values = [w_1, w_2, w_2_end, w_1_end]\n",
    "\n",
    "\n",
    "fig = plt.figure(figsize= (6, 8))\n",
    "ax = fig.add_subplot(1,1,1)\n",
    "plt.bar(x_values, y_values, color= 'blue')\n",
    "plt.suptitle('Weeks: Front and End of Month', fontsize= 20)\n",
    "ax.set_title('cycles are muted', fontsize= 17)\n",
    "\n",
    "plt.savefig('../assets/week_of_month_differences.png')"
   ]
  },
  {
   "cell_type": "markdown",
   "metadata": {},
   "source": [
    "## There is a week-of cyclic factor in crime rates, yet the percentages are relatively small."
   ]
  },
  {
   "cell_type": "markdown",
   "metadata": {},
   "source": [
    "#### Mid-month uptick suggests paycheck cycle, but its a stretch.   Things go a BIT nuttier when people are a little more flush,  but big policy changes or big takeaways here really are thin."
   ]
  },
  {
   "cell_type": "markdown",
   "metadata": {},
   "source": [
    "## The very first day of month is perhaps the takeaway,  as it did have a 21% increase over the null.   A one day hit wonder followed with a cycle that's much much more muted."
   ]
  },
  {
   "cell_type": "markdown",
   "metadata": {},
   "source": [
    "## pick up workflow in next notebook"
   ]
  },
  {
   "cell_type": "code",
   "execution_count": 31,
   "metadata": {},
   "outputs": [],
   "source": [
    "df.to_csv('../data/df_3.csv', index= False)"
   ]
  },
  {
   "cell_type": "code",
   "execution_count": null,
   "metadata": {},
   "outputs": [],
   "source": []
  }
 ],
 "metadata": {
  "kernelspec": {
   "display_name": "Python 3",
   "language": "python",
   "name": "python3"
  },
  "language_info": {
   "codemirror_mode": {
    "name": "ipython",
    "version": 3
   },
   "file_extension": ".py",
   "mimetype": "text/x-python",
   "name": "python",
   "nbconvert_exporter": "python",
   "pygments_lexer": "ipython3",
   "version": "3.7.3"
  }
 },
 "nbformat": 4,
 "nbformat_minor": 2
}
