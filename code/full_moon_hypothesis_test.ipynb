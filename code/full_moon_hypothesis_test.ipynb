{
 "cells": [
  {
   "cell_type": "code",
   "execution_count": 1,
   "metadata": {},
   "outputs": [],
   "source": [
    "import pandas as pd\n",
    "import numpy as np\n",
    "\n",
    "\n",
    "from datetime import datetime, date, time, timedelta\n",
    "import calendar as c         # c is the module\n",
    "c.setfirstweekday(c.SUNDAY)  # first day Sunday America not Monday Euro\n",
    "cc = c.Calendar()            # cc is the an instantiation of the class Calendar; class Calendar inside module c\n",
    "\n",
    "\n",
    "from dateutil.relativedelta import *\n",
    "from dateutil.rrule import *\n",
    "from dateutil.parser import *\n",
    "\n",
    "\n",
    "from matplotlib import pyplot as plt\n",
    "%matplotlib inline\n",
    "import seaborn as sns\n",
    "from pandas.plotting import register_matplotlib_converters\n",
    "register_matplotlib_converters()\n",
    "sns.set(style='darkgrid')\n",
    "\n",
    "from scipy import stats\n",
    "from scipy.stats import mannwhitneyu\n",
    "\n",
    "import copy\n",
    "\n",
    "\n",
    "pd.set_option('display.max_rows', 500)\n",
    "pd.set_option('display.max_columns', 500)\n",
    "pd.set_option('display.width', 1000)"
   ]
  },
  {
   "cell_type": "code",
   "execution_count": 2,
   "metadata": {},
   "outputs": [],
   "source": [
    "df = pd.read_csv('../data/df_5.csv')\n",
    "df_corpus_vile_non = copy.deepcopy(df)              # the backup in case of foobar"
   ]
  },
  {
   "cell_type": "markdown",
   "metadata": {},
   "source": [
    "### The idea is that for 'overnight' for full moons effect hypothesis is that the official timestamp for a crime event must check for possible re-classification to a bucketed 'overnight' schema\n",
    "\n",
    "#### Choose the at dinnertime 6 PM to start the overnight period;  cut the period at 3 AM so the full effect of Homicide 2:30 AM or so 'last call for homicide' can be included (It drops like a brick to the 7 AM rock bottom)"
   ]
  },
  {
   "cell_type": "code",
   "execution_count": 3,
   "metadata": {},
   "outputs": [],
   "source": [
    "df['date_col'] = pd.to_datetime(df['date_col'])     # python various date-time stamps don't test for 'equal' well even\n",
    "df['date'] = pd.to_datetime(df['date'])             #    they are 'equal', so the whole dance of converting and\n",
    "df.index = df['date']                               #    comparing as strings seen in this notebook"
   ]
  },
  {
   "cell_type": "code",
   "execution_count": 4,
   "metadata": {},
   "outputs": [],
   "source": [
    "df_moon_file = pd.read_csv('../data/moons_file.csv')"
   ]
  },
  {
   "cell_type": "code",
   "execution_count": 5,
   "metadata": {},
   "outputs": [],
   "source": [
    "date_kernal = df['date_col']\n",
    "date_kernal = list(set(date_kernal))     # get rid of some duplicates\n",
    "dates_as_ymd_str_list = [str(each_date.to_period('D')) for each_date in date_kernal]\n",
    "dates_as_ymd_str_list = sorted(list(set(dates_as_ymd_str_list)))  #  get rid of remaining duplicates and sort"
   ]
  },
  {
   "cell_type": "code",
   "execution_count": 6,
   "metadata": {},
   "outputs": [
    {
     "data": {
      "text/plain": [
       "2559"
      ]
     },
     "execution_count": 6,
     "metadata": {},
     "output_type": "execute_result"
    }
   ],
   "source": [
    "# make a dictionary to hold each unique day as string form 'year-month-day', not as datetimes or any of their ilk\n",
    "\n",
    "len(dates_as_ymd_str_list)"
   ]
  },
  {
   "cell_type": "code",
   "execution_count": 7,
   "metadata": {},
   "outputs": [],
   "source": [
    "values = [0] * 2559\n",
    "\n",
    "overnight = dict(zip(dates_as_ymd_str_list, values)) "
   ]
  },
  {
   "cell_type": "code",
   "execution_count": 8,
   "metadata": {},
   "outputs": [],
   "source": [
    "# general idea: timestamp of today after 6 PM goes into the today bucket\n",
    "#               timestamp of today before 3 AM goes into yesterday's bucket\n",
    "\n",
    "def calc_6_to_3_overnight(row):                                 \n",
    "    try:\n",
    "        todays_date = row['date_col']\n",
    "        todays_hour = row['hour_of_day']\n",
    "        if todays_hour >= 18:\n",
    "            overnight[str(todays_date.to_period('D'))] += 1\n",
    "        if todays_hour <= 3:\n",
    "            if (str(todays_date.to_period('D')) == '2012-11-15'):    # start date of the dataset does not have a\n",
    "                pass                                                 #     yesterday; obvious only after it crashes\n",
    "            else:                                                    #     on the edge case again\n",
    "                yesterdays_date = todays_date - relativedelta(days=+1)\n",
    "                overnight[str(yesterdays_date.to_period('D'))] += 1\n",
    "    except Exception as e:\n",
    "        print('Houston, we have a problem....')\n",
    "        print(e)"
   ]
  },
  {
   "cell_type": "code",
   "execution_count": 9,
   "metadata": {},
   "outputs": [],
   "source": [
    "df['overnight_6_to_3'] = df.apply(calc_6_to_3_overnight, axis= 1)"
   ]
  },
  {
   "cell_type": "code",
   "execution_count": 10,
   "metadata": {},
   "outputs": [
    {
     "data": {
      "text/html": [
       "<div>\n",
       "<style scoped>\n",
       "    .dataframe tbody tr th:only-of-type {\n",
       "        vertical-align: middle;\n",
       "    }\n",
       "\n",
       "    .dataframe tbody tr th {\n",
       "        vertical-align: top;\n",
       "    }\n",
       "\n",
       "    .dataframe thead th {\n",
       "        text-align: right;\n",
       "    }\n",
       "</style>\n",
       "<table border=\"1\" class=\"dataframe\">\n",
       "  <thead>\n",
       "    <tr style=\"text-align: right;\">\n",
       "      <th></th>\n",
       "      <th>date_col</th>\n",
       "      <th>count</th>\n",
       "    </tr>\n",
       "  </thead>\n",
       "  <tbody>\n",
       "    <tr>\n",
       "      <td>0</td>\n",
       "      <td>2012-11-15</td>\n",
       "      <td>374</td>\n",
       "    </tr>\n",
       "    <tr>\n",
       "      <td>1</td>\n",
       "      <td>2012-11-16</td>\n",
       "      <td>462</td>\n",
       "    </tr>\n",
       "    <tr>\n",
       "      <td>2</td>\n",
       "      <td>2012-11-17</td>\n",
       "      <td>445</td>\n",
       "    </tr>\n",
       "  </tbody>\n",
       "</table>\n",
       "</div>"
      ],
      "text/plain": [
       "     date_col  count\n",
       "0  2012-11-15    374\n",
       "1  2012-11-16    462\n",
       "2  2012-11-17    445"
      ]
     },
     "execution_count": 10,
     "metadata": {},
     "output_type": "execute_result"
    }
   ],
   "source": [
    "df_6_to_3 = pd.DataFrame(list(overnight.items()), columns= ['date_col', 'count'])\n",
    "df_6_to_3.head(3)"
   ]
  },
  {
   "cell_type": "code",
   "execution_count": 11,
   "metadata": {},
   "outputs": [
    {
     "data": {
      "text/html": [
       "<div>\n",
       "<style scoped>\n",
       "    .dataframe tbody tr th:only-of-type {\n",
       "        vertical-align: middle;\n",
       "    }\n",
       "\n",
       "    .dataframe tbody tr th {\n",
       "        vertical-align: top;\n",
       "    }\n",
       "\n",
       "    .dataframe thead th {\n",
       "        text-align: right;\n",
       "    }\n",
       "</style>\n",
       "<table border=\"1\" class=\"dataframe\">\n",
       "  <thead>\n",
       "    <tr style=\"text-align: right;\">\n",
       "      <th></th>\n",
       "      <th>date_col</th>\n",
       "      <th>flag_bit</th>\n",
       "    </tr>\n",
       "  </thead>\n",
       "  <tbody>\n",
       "    <tr>\n",
       "      <td>0</td>\n",
       "      <td>2012-12-12</td>\n",
       "      <td>1</td>\n",
       "    </tr>\n",
       "    <tr>\n",
       "      <td>1</td>\n",
       "      <td>2013-01-21</td>\n",
       "      <td>1</td>\n",
       "    </tr>\n",
       "    <tr>\n",
       "      <td>2</td>\n",
       "      <td>2013-02-19</td>\n",
       "      <td>1</td>\n",
       "    </tr>\n",
       "  </tbody>\n",
       "</table>\n",
       "</div>"
      ],
      "text/plain": [
       "     date_col  flag_bit\n",
       "0  2012-12-12         1\n",
       "1  2013-01-21         1\n",
       "2  2013-02-19         1"
      ]
     },
     "execution_count": 11,
     "metadata": {},
     "output_type": "execute_result"
    }
   ],
   "source": [
    "df_moon_file.columns = ['date_col']\n",
    "df_moon_file['flag_bit'] = 1\n",
    "df_moon_file.head(3)"
   ]
  },
  {
   "cell_type": "code",
   "execution_count": 12,
   "metadata": {},
   "outputs": [],
   "source": [
    "df_6_to_3 = pd.merge(df_6_to_3, df_moon_file, how= 'outer', on= 'date_col')"
   ]
  },
  {
   "cell_type": "code",
   "execution_count": 13,
   "metadata": {},
   "outputs": [],
   "source": [
    "df_6_to_3['flag_bit'] = df_6_to_3['flag_bit'].fillna(0)"
   ]
  },
  {
   "cell_type": "code",
   "execution_count": 14,
   "metadata": {},
   "outputs": [
    {
     "data": {
      "text/plain": [
       "82.0"
      ]
     },
     "execution_count": 14,
     "metadata": {},
     "output_type": "execute_result"
    }
   ],
   "source": [
    "df_6_to_3['flag_bit'].sum()"
   ]
  },
  {
   "cell_type": "code",
   "execution_count": 15,
   "metadata": {},
   "outputs": [
    {
     "data": {
      "text/plain": [
       "date_col    2477\n",
       "count       2477\n",
       "flag_bit    2477\n",
       "dtype: int64"
      ]
     },
     "execution_count": 15,
     "metadata": {},
     "output_type": "execute_result"
    }
   ],
   "source": [
    "df_6_to_3[df_6_to_3['flag_bit'] == 0].count()"
   ]
  },
  {
   "cell_type": "code",
   "execution_count": 16,
   "metadata": {},
   "outputs": [
    {
     "data": {
      "text/plain": [
       "(2559, 3)"
      ]
     },
     "execution_count": 16,
     "metadata": {},
     "output_type": "execute_result"
    }
   ],
   "source": [
    "df_6_to_3.shape"
   ]
  },
  {
   "cell_type": "markdown",
   "metadata": {},
   "source": [
    "#####  The groups are unbalanced so cannot use t-test.   Use Mann Whitney test instead.\n",
    "\n",
    "##### The scipy stats documentation states validity when n for both groups at least 20.    Requirements met."
   ]
  },
  {
   "cell_type": "markdown",
   "metadata": {},
   "source": [
    "###  Null Hypothesis\n",
    "\n",
    "##### My Null Hypothesis is that there is no difference in the average number of crimes on the overnights when there is no full moon compared to the average number of crimes when there is a full moon."
   ]
  },
  {
   "cell_type": "code",
   "execution_count": 17,
   "metadata": {},
   "outputs": [],
   "source": [
    "#     H_0 :   mu_no_moon == mu_full_moon"
   ]
  },
  {
   "cell_type": "code",
   "execution_count": 18,
   "metadata": {},
   "outputs": [],
   "source": [
    "#     My null hypothesis is that overnight crime samples are coming from a single population.\n",
    "#     Run the collected re-bucketed data through stats models Mann Whitney"
   ]
  },
  {
   "cell_type": "code",
   "execution_count": 19,
   "metadata": {},
   "outputs": [],
   "source": [
    "full_moon_here = list(df_6_to_3[df_6_to_3['flag_bit'] == 1]['count'])\n",
    "full_moon_gone = list(df_6_to_3[df_6_to_3['flag_bit'] == 0]['count'])"
   ]
  },
  {
   "cell_type": "code",
   "execution_count": 20,
   "metadata": {},
   "outputs": [],
   "source": [
    "stat, p = mannwhitneyu(full_moon_here, full_moon_gone)"
   ]
  },
  {
   "cell_type": "code",
   "execution_count": 21,
   "metadata": {},
   "outputs": [
    {
     "data": {
      "text/plain": [
       "0.2501860679603888"
      ]
     },
     "execution_count": 21,
     "metadata": {},
     "output_type": "execute_result"
    }
   ],
   "source": [
    "p"
   ]
  },
  {
   "cell_type": "code",
   "execution_count": 22,
   "metadata": {},
   "outputs": [],
   "source": [
    "#   p > 0.05            NOT(Since p is low, H_0 gotta go)  ==>  cannot reject the Null Hypothesis"
   ]
  },
  {
   "cell_type": "markdown",
   "metadata": {},
   "source": [
    "#### The null hypothesis is not rejected.  The purist would say the that's all you can say.\n",
    "\n",
    "## I'll go out and say that the full moon does not have an effect on crime."
   ]
  }
 ],
 "metadata": {
  "kernelspec": {
   "display_name": "Python 3",
   "language": "python",
   "name": "python3"
  },
  "language_info": {
   "codemirror_mode": {
    "name": "ipython",
    "version": 3
   },
   "file_extension": ".py",
   "mimetype": "text/x-python",
   "name": "python",
   "nbconvert_exporter": "python",
   "pygments_lexer": "ipython3",
   "version": "3.7.3"
  }
 },
 "nbformat": 4,
 "nbformat_minor": 2
}
